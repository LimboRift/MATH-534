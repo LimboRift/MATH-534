{
 "cells": [
  {
   "cell_type": "markdown",
   "metadata": {},
   "source": [
    "# $I_1$"
   ]
  },
  {
   "cell_type": "markdown",
   "metadata": {},
   "source": [
    "$I_1=\\frac{1}{\\pi}\\int_{-1}^{1}\\frac{cosh(x)}{\\sqrt{1-x^2}}$"
   ]
  },
  {
   "cell_type": "markdown",
   "metadata": {},
   "source": [
    "Importance distribution: $\\frac{1}{\\pi\\sqrt{(1-x^2)}}$ is a pdf on $[-1,1]$, $\\int_{-1}^{1}\\frac{1}{\\pi\\sqrt{(1-x^2)}}=1$"
   ]
  },
  {
   "cell_type": "code",
   "execution_count": 1,
   "metadata": {},
   "outputs": [
    {
     "data": {
      "text/html": [
       "1.26895915631168"
      ],
      "text/latex": [
       "1.26895915631168"
      ],
      "text/markdown": [
       "1.26895915631168"
      ],
      "text/plain": [
       "[1] 1.268959"
      ]
     },
     "metadata": {},
     "output_type": "display_data"
    }
   ],
   "source": [
    "f = function(x) cosh(x)\n",
    "g = function(x) 1/pi/sqrt(1-x^2)\n",
    "X = runif(10^5,-1,1)\n",
    "Y <- f(X)*g(X)*2\n",
    "mean(Y)"
   ]
  },
  {
   "cell_type": "markdown",
   "metadata": {},
   "source": [
    "Real result is approximately $1.266065878$"
   ]
  },
  {
   "cell_type": "code",
   "execution_count": 2,
   "metadata": {},
   "outputs": [
    {
     "data": {
      "text/html": [
       "0.00229"
      ],
      "text/latex": [
       "0.00229"
      ],
      "text/markdown": [
       "0.00229"
      ],
      "text/plain": [
       "[1] 0.00229"
      ]
     },
     "metadata": {},
     "output_type": "display_data"
    }
   ],
   "source": [
    "round(abs(mean(Y)-1.266065878)/1.266065878,5)"
   ]
  },
  {
   "cell_type": "markdown",
   "metadata": {},
   "source": [
    "The estimate is only 0.229\\% away from real value, the accuracy of estimate is high."
   ]
  },
  {
   "cell_type": "markdown",
   "metadata": {},
   "source": [
    "# $I_2$"
   ]
  },
  {
   "cell_type": "markdown",
   "metadata": {},
   "source": [
    "$I_2=\\frac{1}{2\\pi}\\int_{-\\infty}^{\\infty}\\int_{-\\infty}^{\\infty}e^{-\\frac{x^2+y^2}{2}}\\sqrt{1+sin(x^2+y^2)}dxdy$"
   ]
  },
  {
   "cell_type": "markdown",
   "metadata": {},
   "source": [
    "Importance distribution: $\\frac{1}{2\\pi}e^{-\\frac{x^2+y^2}{2}}$ is a pdf of 2 independent standard gaussian rvs."
   ]
  },
  {
   "cell_type": "code",
   "execution_count": 3,
   "metadata": {},
   "outputs": [
    {
     "data": {
      "text/html": [
       "1.12120147116753"
      ],
      "text/latex": [
       "1.12120147116753"
      ],
      "text/markdown": [
       "1.12120147116753"
      ],
      "text/plain": [
       "[1] 1.121201"
      ]
     },
     "metadata": {},
     "output_type": "display_data"
    }
   ],
   "source": [
    "f = function(x,y) sqrt(1+sin(x*y)^2)\n",
    "X = rnorm(10^5)\n",
    "Y = rnorm(10^5)\n",
    "(res = mean(f(X,Y)))"
   ]
  },
  {
   "cell_type": "markdown",
   "metadata": {},
   "source": [
    "Real result is approximately $1.1214539633$"
   ]
  },
  {
   "cell_type": "code",
   "execution_count": 4,
   "metadata": {},
   "outputs": [
    {
     "data": {
      "text/html": [
       "0.00023"
      ],
      "text/latex": [
       "0.00023"
      ],
      "text/markdown": [
       "0.00023"
      ],
      "text/plain": [
       "[1] 0.00023"
      ]
     },
     "metadata": {},
     "output_type": "display_data"
    }
   ],
   "source": [
    "round(abs(res-1.1214539633)/1.1214539633,5)"
   ]
  },
  {
   "cell_type": "markdown",
   "metadata": {},
   "source": [
    "The estimate is only 0.023\\% away from real value, the accuracy of estimate is high."
   ]
  }
 ],
 "metadata": {
  "kernelspec": {
   "display_name": "R",
   "language": "R",
   "name": "ir"
  },
  "language_info": {
   "codemirror_mode": "r",
   "file_extension": ".r",
   "mimetype": "text/x-r-source",
   "name": "R",
   "pygments_lexer": "r",
   "version": "3.6.1"
  },
  "latex_envs": {
   "LaTeX_envs_menu_present": true,
   "autoclose": false,
   "autocomplete": true,
   "bibliofile": "biblio.bib",
   "cite_by": "apalike",
   "current_citInitial": 1,
   "eqLabelWithNumbers": true,
   "eqNumInitial": 1,
   "hotkeys": {
    "equation": "Ctrl-E",
    "itemize": "Ctrl-I"
   },
   "labels_anchors": false,
   "latex_user_defs": false,
   "report_style_numbering": false,
   "user_envs_cfg": false
  },
  "toc": {
   "base_numbering": 1,
   "nav_menu": {},
   "number_sections": false,
   "sideBar": true,
   "skip_h1_title": false,
   "title_cell": "Table of Contents",
   "title_sidebar": "Contents",
   "toc_cell": false,
   "toc_position": {},
   "toc_section_display": true,
   "toc_window_display": true
  }
 },
 "nbformat": 4,
 "nbformat_minor": 2
}
