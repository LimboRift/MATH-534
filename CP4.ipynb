{
 "cells": [
  {
   "cell_type": "code",
   "execution_count": 1,
   "metadata": {},
   "outputs": [],
   "source": [
    "library(MASS)"
   ]
  },
  {
   "cell_type": "markdown",
   "metadata": {},
   "source": [
    "# 1. Box-Muller method"
   ]
  },
  {
   "cell_type": "markdown",
   "metadata": {},
   "source": [
    "## (a)"
   ]
  },
  {
   "cell_type": "code",
   "execution_count": 2,
   "metadata": {},
   "outputs": [],
   "source": [
    "n = 5000\n",
    "u = matrix(runif(2*n,0,1), n, 2, TRUE)"
   ]
  },
  {
   "cell_type": "markdown",
   "metadata": {},
   "source": [
    "## (b)"
   ]
  },
  {
   "cell_type": "code",
   "execution_count": 3,
   "metadata": {},
   "outputs": [],
   "source": [
    "x = NULL\n",
    "for (i in 1:n){\n",
    "    x[2*i-1] = sqrt(-2*log(u[i,1]))*cos(2*pi*u[i,2])\n",
    "    x[2*i] = sqrt(-2*log(u[i,1]))*sin(2*pi*u[i,2])\n",
    "}"
   ]
  },
  {
   "cell_type": "markdown",
   "metadata": {},
   "source": [
    "## (c)"
   ]
  },
  {
   "cell_type": "code",
   "execution_count": 4,
   "metadata": {},
   "outputs": [
    {
     "name": "stderr",
     "output_type": "stream",
     "text": [
      "Warning message in chisq.test(x, rnorm(10000, 0, 1)):\n",
      "\"Chi-squared approximation may be incorrect\""
     ]
    },
    {
     "data": {
      "text/plain": [
       "\n",
       "\tPearson's Chi-squared test\n",
       "\n",
       "data:  x and rnorm(10000, 0, 1)\n",
       "X-squared = 99990000, df = 99980001, p-value = 0.2397\n"
      ]
     },
     "metadata": {},
     "output_type": "display_data"
    }
   ],
   "source": [
    "chisq.test(x, rnorm(10000,0,1))"
   ]
  },
  {
   "cell_type": "code",
   "execution_count": 5,
   "metadata": {},
   "outputs": [
    {
     "data": {
      "text/plain": [
       "\n",
       "\tTwo-sample Kolmogorov-Smirnov test\n",
       "\n",
       "data:  x and rnorm(10000, 0, 1)\n",
       "D = 0.0097, p-value = 0.7346\n",
       "alternative hypothesis: two-sided\n"
      ]
     },
     "metadata": {},
     "output_type": "display_data"
    }
   ],
   "source": [
    "ks.test(x, rnorm(10000,0,1))"
   ]
  },
  {
   "cell_type": "markdown",
   "metadata": {},
   "source": [
    "# 2. Marsaglia polar method"
   ]
  },
  {
   "cell_type": "markdown",
   "metadata": {},
   "source": [
    "## (a)"
   ]
  },
  {
   "cell_type": "code",
   "execution_count": 6,
   "metadata": {},
   "outputs": [],
   "source": [
    "n = 5000\n",
    "u = matrix(0,1,2)\n",
    "while (nrow(u)<=5000){\n",
    "    u_0 = runif(2,-1,1)\n",
    "    if ((u_0[1]^2+u_0[2]^2<=1)&(u_0[1]^2+u_0[2]^2>0)){\n",
    "        u = rbind(u,u_0)\n",
    "    }\n",
    "}\n",
    "u = u[-1,]"
   ]
  },
  {
   "cell_type": "markdown",
   "metadata": {},
   "source": [
    "## (b)"
   ]
  },
  {
   "cell_type": "code",
   "execution_count": 7,
   "metadata": {},
   "outputs": [
    {
     "data": {
      "text/html": [
       "<table>\n",
       "<thead><tr><th></th><th scope=col>u_1</th><th scope=col>u_2</th><th scope=col>r</th><th scope=col>x_1</th><th scope=col>x_2</th></tr></thead>\n",
       "<tbody>\n",
       "\t<tr><th scope=row>u_0</th><td> 0.1171677 </td><td>-0.62771138</td><td>0.4077499  </td><td> 0.2457801 </td><td>-1.316736  </td></tr>\n",
       "\t<tr><th scope=row>u_0.1</th><td>-0.1510875 </td><td> 0.08867058</td><td>0.0306899  </td><td>-2.2765318 </td><td> 1.336056  </td></tr>\n",
       "\t<tr><th scope=row>u_0.2</th><td>-0.1313508 </td><td> 0.19501505</td><td>0.0552839  </td><td>-1.3442906 </td><td> 1.995853  </td></tr>\n",
       "</tbody>\n",
       "</table>\n"
      ],
      "text/latex": [
       "\\begin{tabular}{r|lllll}\n",
       "  & u\\_1 & u\\_2 & r & x\\_1 & x\\_2\\\\\n",
       "\\hline\n",
       "\tu\\_0 &  0.1171677  & -0.62771138 & 0.4077499   &  0.2457801  & -1.316736  \\\\\n",
       "\tu\\_0.1 & -0.1510875  &  0.08867058 & 0.0306899   & -2.2765318  &  1.336056  \\\\\n",
       "\tu\\_0.2 & -0.1313508  &  0.19501505 & 0.0552839   & -1.3442906  &  1.995853  \\\\\n",
       "\\end{tabular}\n"
      ],
      "text/markdown": [
       "\n",
       "| <!--/--> | u_1 | u_2 | r | x_1 | x_2 |\n",
       "|---|---|---|---|---|---|\n",
       "| u_0 |  0.1171677  | -0.62771138 | 0.4077499   |  0.2457801  | -1.316736   |\n",
       "| u_0.1 | -0.1510875  |  0.08867058 | 0.0306899   | -2.2765318  |  1.336056   |\n",
       "| u_0.2 | -0.1313508  |  0.19501505 | 0.0552839   | -1.3442906  |  1.995853   |\n",
       "\n"
      ],
      "text/plain": [
       "      u_1        u_2         r         x_1        x_2      \n",
       "u_0    0.1171677 -0.62771138 0.4077499  0.2457801 -1.316736\n",
       "u_0.1 -0.1510875  0.08867058 0.0306899 -2.2765318  1.336056\n",
       "u_0.2 -0.1313508  0.19501505 0.0552839 -1.3442906  1.995853"
      ]
     },
     "metadata": {},
     "output_type": "display_data"
    }
   ],
   "source": [
    "u = as.data.frame(u)\n",
    "colnames(u) = c('u_1', 'u_2')\n",
    "u$r = u$u_1^2+u$u_2^2\n",
    "u$x_1 = sqrt(-2*log(u$r)/u$r)*u$u_1\n",
    "u$x_2 = sqrt(-2*log(u$r)/u$r)*u$u_2\n",
    "u[1:3,]"
   ]
  },
  {
   "cell_type": "markdown",
   "metadata": {},
   "source": [
    "## (c)"
   ]
  },
  {
   "cell_type": "code",
   "execution_count": 8,
   "metadata": {},
   "outputs": [
    {
     "name": "stderr",
     "output_type": "stream",
     "text": [
      "Warning message in chisq.test(as.numeric(as.matrix(u[, 4:5])), rnorm(10000, 0, 1)):\n",
      "\"Chi-squared approximation may be incorrect\""
     ]
    },
    {
     "data": {
      "text/plain": [
       "\n",
       "\tPearson's Chi-squared test\n",
       "\n",
       "data:  as.numeric(as.matrix(u[, 4:5])) and rnorm(10000, 0, 1)\n",
       "X-squared = 99990000, df = 99980001, p-value = 0.2397\n"
      ]
     },
     "metadata": {},
     "output_type": "display_data"
    }
   ],
   "source": [
    "chisq.test(as.numeric(as.matrix(u[,4:5])), rnorm(10000,0,1))"
   ]
  },
  {
   "cell_type": "code",
   "execution_count": 9,
   "metadata": {},
   "outputs": [
    {
     "data": {
      "text/plain": [
       "\n",
       "\tTwo-sample Kolmogorov-Smirnov test\n",
       "\n",
       "data:  as.numeric(as.matrix(u[, 4:5])) and rnorm(10000, 0, 1)\n",
       "D = 0.0098, p-value = 0.7229\n",
       "alternative hypothesis: two-sided\n"
      ]
     },
     "metadata": {},
     "output_type": "display_data"
    }
   ],
   "source": [
    "ks.test(as.numeric(as.matrix(u[,4:5])), rnorm(10000,0,1))"
   ]
  },
  {
   "cell_type": "markdown",
   "metadata": {},
   "source": [
    "## (d)"
   ]
  },
  {
   "cell_type": "markdown",
   "metadata": {},
   "source": [
    "Marsaglia polar method is faster."
   ]
  },
  {
   "cell_type": "markdown",
   "metadata": {},
   "source": [
    "# 3. Inverse CDF method"
   ]
  },
  {
   "cell_type": "markdown",
   "metadata": {},
   "source": [
    "## (a)"
   ]
  },
  {
   "cell_type": "code",
   "execution_count": 13,
   "metadata": {},
   "outputs": [],
   "source": [
    "u = runif(10000,0,1)"
   ]
  },
  {
   "cell_type": "markdown",
   "metadata": {},
   "source": [
    "## (b)"
   ]
  },
  {
   "cell_type": "code",
   "execution_count": 14,
   "metadata": {},
   "outputs": [],
   "source": [
    "s = 2*as.numeric(u>.5)-1"
   ]
  },
  {
   "cell_type": "markdown",
   "metadata": {},
   "source": [
    "## (c)"
   ]
  },
  {
   "cell_type": "code",
   "execution_count": 15,
   "metadata": {},
   "outputs": [],
   "source": [
    "u = runif(10000,0,1)"
   ]
  },
  {
   "cell_type": "markdown",
   "metadata": {},
   "source": [
    "## (d)"
   ]
  },
  {
   "cell_type": "code",
   "execution_count": 17,
   "metadata": {},
   "outputs": [],
   "source": [
    "s = 2*as.numeric(u>.5)-1"
   ]
  },
  {
   "cell_type": "code",
   "execution_count": 18,
   "metadata": {},
   "outputs": [],
   "source": [
    "x = s*sqrt(pi/8)*log((1+u)/(1-u))"
   ]
  },
  {
   "cell_type": "markdown",
   "metadata": {},
   "source": [
    "## (e)"
   ]
  },
  {
   "cell_type": "code",
   "execution_count": 20,
   "metadata": {},
   "outputs": [
    {
     "name": "stderr",
     "output_type": "stream",
     "text": [
      "Warning message in chisq.test(x, rnorm(10000, 0, 1)):\n",
      "\"Chi-squared approximation may be incorrect\""
     ]
    },
    {
     "data": {
      "text/plain": [
       "\n",
       "\tPearson's Chi-squared test\n",
       "\n",
       "data:  x and rnorm(10000, 0, 1)\n",
       "X-squared = 99990000, df = 99980001, p-value = 0.2397\n"
      ]
     },
     "metadata": {},
     "output_type": "display_data"
    }
   ],
   "source": [
    "chisq.test(x, rnorm(10000,0,1))"
   ]
  },
  {
   "cell_type": "code",
   "execution_count": 21,
   "metadata": {},
   "outputs": [
    {
     "data": {
      "text/plain": [
       "\n",
       "\tTwo-sample Kolmogorov-Smirnov test\n",
       "\n",
       "data:  x and rnorm(10000, 0, 1)\n",
       "D = 0.2545, p-value < 2.2e-16\n",
       "alternative hypothesis: two-sided\n"
      ]
     },
     "metadata": {},
     "output_type": "display_data"
    }
   ],
   "source": [
    "ks.test(x, rnorm(10000,0,1))"
   ]
  },
  {
   "cell_type": "markdown",
   "metadata": {},
   "source": [
    "## (f)"
   ]
  }
 ],
 "metadata": {
  "kernelspec": {
   "display_name": "R",
   "language": "R",
   "name": "ir"
  },
  "language_info": {
   "codemirror_mode": "r",
   "file_extension": ".r",
   "mimetype": "text/x-r-source",
   "name": "R",
   "pygments_lexer": "r",
   "version": "3.6.1"
  },
  "latex_envs": {
   "LaTeX_envs_menu_present": true,
   "autoclose": false,
   "autocomplete": true,
   "bibliofile": "biblio.bib",
   "cite_by": "apalike",
   "current_citInitial": 1,
   "eqLabelWithNumbers": true,
   "eqNumInitial": 1,
   "hotkeys": {
    "equation": "Ctrl-E",
    "itemize": "Ctrl-I"
   },
   "labels_anchors": false,
   "latex_user_defs": false,
   "report_style_numbering": false,
   "user_envs_cfg": false
  },
  "toc": {
   "base_numbering": 1,
   "nav_menu": {},
   "number_sections": false,
   "sideBar": true,
   "skip_h1_title": false,
   "title_cell": "Table of Contents",
   "title_sidebar": "Contents",
   "toc_cell": false,
   "toc_position": {},
   "toc_section_display": true,
   "toc_window_display": true
  }
 },
 "nbformat": 4,
 "nbformat_minor": 2
}
