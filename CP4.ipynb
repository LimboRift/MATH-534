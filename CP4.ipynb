{
 "cells": [
  {
   "cell_type": "code",
   "execution_count": 1,
   "metadata": {},
   "outputs": [],
   "source": [
    "library(MASS)"
   ]
  },
  {
   "cell_type": "markdown",
   "metadata": {},
   "source": [
    "# 1. Box-Muller method"
   ]
  },
  {
   "cell_type": "markdown",
   "metadata": {},
   "source": [
    "## (a)"
   ]
  },
  {
   "cell_type": "code",
   "execution_count": 2,
   "metadata": {},
   "outputs": [],
   "source": [
    "n = 5000\n",
    "u = matrix(runif(2*n,0,1), n, 2, TRUE)"
   ]
  },
  {
   "cell_type": "markdown",
   "metadata": {},
   "source": [
    "## (b)"
   ]
  },
  {
   "cell_type": "code",
   "execution_count": 3,
   "metadata": {},
   "outputs": [],
   "source": [
    "x = NULL\n",
    "for (i in 1:n){\n",
    "    x[2*i-1] = sqrt(-2*log(u[i,1]))*cos(2*pi*u[i,2])\n",
    "    x[2*i] = sqrt(-2*log(u[i,1]))*sin(2*pi*u[i,2])\n",
    "}"
   ]
  },
  {
   "cell_type": "markdown",
   "metadata": {},
   "source": [
    "## (c)"
   ]
  },
  {
   "cell_type": "code",
   "execution_count": 4,
   "metadata": {},
   "outputs": [
    {
     "name": "stderr",
     "output_type": "stream",
     "text": [
      "Warning message in chisq.test(x, rnorm(10000, 0, 1)):\n",
      "\"Chi-squared approximation may be incorrect\""
     ]
    },
    {
     "data": {
      "text/plain": [
       "\n",
       "\tPearson's Chi-squared test\n",
       "\n",
       "data:  x and rnorm(10000, 0, 1)\n",
       "X-squared = 99990000, df = 99980001, p-value = 0.2397\n"
      ]
     },
     "metadata": {},
     "output_type": "display_data"
    }
   ],
   "source": [
    "chisq.test(x, rnorm(10000,0,1))"
   ]
  },
  {
   "cell_type": "code",
   "execution_count": 5,
   "metadata": {},
   "outputs": [
    {
     "data": {
      "text/plain": [
       "\n",
       "\tTwo-sample Kolmogorov-Smirnov test\n",
       "\n",
       "data:  x and rnorm(10000, 0, 1)\n",
       "D = 0.0094, p-value = 0.7689\n",
       "alternative hypothesis: two-sided\n"
      ]
     },
     "metadata": {},
     "output_type": "display_data"
    }
   ],
   "source": [
    "ks.test(x, rnorm(10000,0,1))"
   ]
  },
  {
   "cell_type": "markdown",
   "metadata": {},
   "source": [
    "Conclusion: By $\\chi^2$-test and Kolmogorov–Smirnov test, the obtained $X_i$'s are not standard Gaussian distribution."
   ]
  },
  {
   "cell_type": "markdown",
   "metadata": {},
   "source": [
    "# 2. Marsaglia polar method"
   ]
  },
  {
   "cell_type": "markdown",
   "metadata": {},
   "source": [
    "## (a)"
   ]
  },
  {
   "cell_type": "code",
   "execution_count": 6,
   "metadata": {},
   "outputs": [],
   "source": [
    "n = 5000\n",
    "u = matrix(0,1,2)\n",
    "while (nrow(u)<=5000){\n",
    "    u_0 = runif(2,-1,1)\n",
    "    if ((u_0[1]^2+u_0[2]^2<=1)&(u_0[1]^2+u_0[2]^2>0)){\n",
    "        u = rbind(u,u_0)\n",
    "    }\n",
    "}\n",
    "u = u[-1,]"
   ]
  },
  {
   "cell_type": "markdown",
   "metadata": {},
   "source": [
    "## (b)"
   ]
  },
  {
   "cell_type": "code",
   "execution_count": 7,
   "metadata": {},
   "outputs": [
    {
     "data": {
      "text/html": [
       "<table>\n",
       "<thead><tr><th></th><th scope=col>u_1</th><th scope=col>u_2</th><th scope=col>r</th><th scope=col>x_1</th><th scope=col>x_2</th></tr></thead>\n",
       "<tbody>\n",
       "\t<tr><th scope=row>u_0</th><td> 0.3266459  </td><td>-0.642979812</td><td>0.5201206   </td><td> 0.5178782  </td><td>-1.019407405</td></tr>\n",
       "\t<tr><th scope=row>u_0.1</th><td>-0.1517733  </td><td>-0.330756489</td><td>0.1324350   </td><td>-0.8386164  </td><td>-1.827580242</td></tr>\n",
       "\t<tr><th scope=row>u_0.2</th><td>-0.9531061  </td><td> 0.009475688</td><td>0.9085010   </td><td>-0.4380635  </td><td> 0.004355185</td></tr>\n",
       "</tbody>\n",
       "</table>\n"
      ],
      "text/latex": [
       "\\begin{tabular}{r|lllll}\n",
       "  & u\\_1 & u\\_2 & r & x\\_1 & x\\_2\\\\\n",
       "\\hline\n",
       "\tu\\_0 &  0.3266459   & -0.642979812 & 0.5201206    &  0.5178782   & -1.019407405\\\\\n",
       "\tu\\_0.1 & -0.1517733   & -0.330756489 & 0.1324350    & -0.8386164   & -1.827580242\\\\\n",
       "\tu\\_0.2 & -0.9531061   &  0.009475688 & 0.9085010    & -0.4380635   &  0.004355185\\\\\n",
       "\\end{tabular}\n"
      ],
      "text/markdown": [
       "\n",
       "| <!--/--> | u_1 | u_2 | r | x_1 | x_2 |\n",
       "|---|---|---|---|---|---|\n",
       "| u_0 |  0.3266459   | -0.642979812 | 0.5201206    |  0.5178782   | -1.019407405 |\n",
       "| u_0.1 | -0.1517733   | -0.330756489 | 0.1324350    | -0.8386164   | -1.827580242 |\n",
       "| u_0.2 | -0.9531061   |  0.009475688 | 0.9085010    | -0.4380635   |  0.004355185 |\n",
       "\n"
      ],
      "text/plain": [
       "      u_1        u_2          r         x_1        x_2         \n",
       "u_0    0.3266459 -0.642979812 0.5201206  0.5178782 -1.019407405\n",
       "u_0.1 -0.1517733 -0.330756489 0.1324350 -0.8386164 -1.827580242\n",
       "u_0.2 -0.9531061  0.009475688 0.9085010 -0.4380635  0.004355185"
      ]
     },
     "metadata": {},
     "output_type": "display_data"
    }
   ],
   "source": [
    "u = as.data.frame(u)\n",
    "colnames(u) = c('u_1', 'u_2')\n",
    "u$r = u$u_1^2+u$u_2^2\n",
    "u$x_1 = sqrt(-2*log(u$r)/u$r)*u$u_1\n",
    "u$x_2 = sqrt(-2*log(u$r)/u$r)*u$u_2\n",
    "u[1:3,]"
   ]
  },
  {
   "cell_type": "markdown",
   "metadata": {},
   "source": [
    "## (c)"
   ]
  },
  {
   "cell_type": "code",
   "execution_count": 8,
   "metadata": {},
   "outputs": [
    {
     "name": "stderr",
     "output_type": "stream",
     "text": [
      "Warning message in chisq.test(as.numeric(as.matrix(u[, 4:5])), rnorm(10000, 0, 1)):\n",
      "\"Chi-squared approximation may be incorrect\""
     ]
    },
    {
     "data": {
      "text/plain": [
       "\n",
       "\tPearson's Chi-squared test\n",
       "\n",
       "data:  as.numeric(as.matrix(u[, 4:5])) and rnorm(10000, 0, 1)\n",
       "X-squared = 99990000, df = 99980001, p-value = 0.2397\n"
      ]
     },
     "metadata": {},
     "output_type": "display_data"
    }
   ],
   "source": [
    "chisq.test(as.numeric(as.matrix(u[,4:5])), rnorm(10000,0,1))"
   ]
  },
  {
   "cell_type": "code",
   "execution_count": 9,
   "metadata": {},
   "outputs": [
    {
     "data": {
      "text/plain": [
       "\n",
       "\tTwo-sample Kolmogorov-Smirnov test\n",
       "\n",
       "data:  as.numeric(as.matrix(u[, 4:5])) and rnorm(10000, 0, 1)\n",
       "D = 0.0102, p-value = 0.6756\n",
       "alternative hypothesis: two-sided\n"
      ]
     },
     "metadata": {},
     "output_type": "display_data"
    }
   ],
   "source": [
    "ks.test(as.numeric(as.matrix(u[,4:5])), rnorm(10000,0,1))"
   ]
  },
  {
   "cell_type": "markdown",
   "metadata": {},
   "source": [
    "Conclusion: By $\\chi^2$-test and Kolmogorov–Smirnov test, the obtained $X_i$'s are not standard Gaussian distribution."
   ]
  },
  {
   "cell_type": "markdown",
   "metadata": {},
   "source": [
    "## (d)"
   ]
  },
  {
   "cell_type": "markdown",
   "metadata": {},
   "source": [
    "Marsaglia polar method is faster."
   ]
  },
  {
   "cell_type": "markdown",
   "metadata": {},
   "source": [
    "# 3. Inverse CDF method"
   ]
  },
  {
   "cell_type": "markdown",
   "metadata": {},
   "source": [
    "## (a)"
   ]
  },
  {
   "cell_type": "code",
   "execution_count": 10,
   "metadata": {},
   "outputs": [],
   "source": [
    "u = runif(10000,0,1)"
   ]
  },
  {
   "cell_type": "markdown",
   "metadata": {},
   "source": [
    "## (b)"
   ]
  },
  {
   "cell_type": "code",
   "execution_count": 11,
   "metadata": {},
   "outputs": [],
   "source": [
    "s = 2*as.numeric(u>.5)-1"
   ]
  },
  {
   "cell_type": "markdown",
   "metadata": {},
   "source": [
    "## (c)"
   ]
  },
  {
   "cell_type": "code",
   "execution_count": 12,
   "metadata": {},
   "outputs": [],
   "source": [
    "u = runif(10000,0,1)"
   ]
  },
  {
   "cell_type": "markdown",
   "metadata": {},
   "source": [
    "## (d)"
   ]
  },
  {
   "cell_type": "code",
   "execution_count": 13,
   "metadata": {},
   "outputs": [],
   "source": [
    "s = 2*as.numeric(u>.5)-1"
   ]
  },
  {
   "cell_type": "code",
   "execution_count": 14,
   "metadata": {},
   "outputs": [],
   "source": [
    "x = s*sqrt(pi/8)*log((1+u)/(1-u))"
   ]
  },
  {
   "cell_type": "markdown",
   "metadata": {},
   "source": [
    "## (e)"
   ]
  },
  {
   "cell_type": "code",
   "execution_count": 15,
   "metadata": {},
   "outputs": [
    {
     "name": "stderr",
     "output_type": "stream",
     "text": [
      "Warning message in chisq.test(x, rnorm(10000, 0, 1)):\n",
      "\"Chi-squared approximation may be incorrect\""
     ]
    },
    {
     "data": {
      "text/plain": [
       "\n",
       "\tPearson's Chi-squared test\n",
       "\n",
       "data:  x and rnorm(10000, 0, 1)\n",
       "X-squared = 99990000, df = 99980001, p-value = 0.2397\n"
      ]
     },
     "metadata": {},
     "output_type": "display_data"
    }
   ],
   "source": [
    "chisq.test(x, rnorm(10000,0,1))"
   ]
  },
  {
   "cell_type": "code",
   "execution_count": 16,
   "metadata": {},
   "outputs": [
    {
     "data": {
      "text/plain": [
       "\n",
       "\tTwo-sample Kolmogorov-Smirnov test\n",
       "\n",
       "data:  x and rnorm(10000, 0, 1)\n",
       "D = 0.253, p-value < 2.2e-16\n",
       "alternative hypothesis: two-sided\n"
      ]
     },
     "metadata": {},
     "output_type": "display_data"
    }
   ],
   "source": [
    "ks.test(x, rnorm(10000,0,1))"
   ]
  },
  {
   "cell_type": "markdown",
   "metadata": {},
   "source": [
    "Conclusion: By $\\chi^2$-test, the obtained $X_i$'s are not standard Gaussian distribution. However, Kolmogorov–Smirnov test shows that the obtained $X_i$'s are standard Gaussian distribution"
   ]
  },
  {
   "cell_type": "markdown",
   "metadata": {},
   "source": [
    "## (f)"
   ]
  },
  {
   "cell_type": "markdown",
   "metadata": {},
   "source": [
    "It's not symmetry, and has an empty interval."
   ]
  },
  {
   "cell_type": "code",
   "execution_count": 32,
   "metadata": {},
   "outputs": [
    {
     "data": {
      "text/html": [
       "0.524553091073193"
      ],
      "text/latex": [
       "0.524553091073193"
      ],
      "text/markdown": [
       "0.524553091073193"
      ],
      "text/plain": [
       "[1] 0.5245531"
      ]
     },
     "metadata": {},
     "output_type": "display_data"
    },
    {
     "data": {
      "text/html": [
       "<ol class=list-inline>\n",
       "\t<li>0.00015864986959583</li>\n",
       "\t<li>10.1849871540646</li>\n",
       "</ol>\n"
      ],
      "text/latex": [
       "\\begin{enumerate*}\n",
       "\\item 0.00015864986959583\n",
       "\\item 10.1849871540646\n",
       "\\end{enumerate*}\n"
      ],
      "text/markdown": [
       "1. 0.00015864986959583\n",
       "2. 10.1849871540646\n",
       "\n",
       "\n"
      ],
      "text/plain": [
       "[1] 1.586499e-04 1.018499e+01"
      ]
     },
     "metadata": {},
     "output_type": "display_data"
    },
    {
     "data": {
      "text/html": [
       "<ol class=list-inline>\n",
       "\t<li>-0.688336655732499</li>\n",
       "\t<li>6.38249419428299</li>\n",
       "</ol>\n"
      ],
      "text/latex": [
       "\\begin{enumerate*}\n",
       "\\item -0.688336655732499\n",
       "\\item 6.38249419428299\n",
       "\\end{enumerate*}\n"
      ],
      "text/markdown": [
       "1. -0.688336655732499\n",
       "2. 6.38249419428299\n",
       "\n",
       "\n"
      ],
      "text/plain": [
       "[1] -0.6883367  6.3824942"
      ]
     },
     "metadata": {},
     "output_type": "display_data"
    },
    {
     "data": {
      "image/png": "[encoded data removed]",
      "text/plain": [
       "plot without title"
      ]
     },
     "metadata": {},
     "output_type": "display_data"
    }
   ],
   "source": [
    "mean(x)\n",
    "range(log((1+u)/(1-u)))\n",
    "range(x)\n",
    "plot(x,pch = 16,cex = .3, xlab = 'X_i', ylab = 'Value of X_i')"
   ]
  },
  {
   "cell_type": "markdown",
   "metadata": {},
   "source": [
    "## (g)"
   ]
  },
  {
   "cell_type": "markdown",
   "metadata": {},
   "source": [
    "$E[X_i] = E[\\sqrt{\\pi/8}S_i(log(1+U_i)-log(1-U_i))] = \\sqrt{\\pi/8}E[S_i]E[log(1+U_i)-log(1-U_i)] = \\sqrt{\\pi/8}*0*1.1 = 0*0.6893$"
   ]
  },
  {
   "cell_type": "markdown",
   "metadata": {},
   "source": [
    "To make $E[X_i] = -2$, can make $E[S_i] = -2 / 0.6893 = -2.9015$ "
   ]
  },
  {
   "cell_type": "markdown",
   "metadata": {},
   "source": [
    "Change the rule of $S_i$ to: $S_i = 2\\[ \\mathbb{1} \\]_{U_i>1/2} - 1 - 2.9015$"
   ]
  },
  {
   "cell_type": "markdown",
   "metadata": {},
   "source": [
    "After the change, the mean of $X_i$ is close to $-2$"
   ]
  },
  {
   "cell_type": "code",
   "execution_count": 36,
   "metadata": {},
   "outputs": [
    {
     "data": {
      "text/html": [
       "-1.95657122562188"
      ],
      "text/latex": [
       "-1.95657122562188"
      ],
      "text/markdown": [
       "-1.95657122562188"
      ],
      "text/plain": [
       "[1] -1.956571"
      ]
     },
     "metadata": {},
     "output_type": "display_data"
    },
    {
     "data": {
      "image/png": "[encoded data removed]",
      "text/plain": [
       "plot without title"
      ]
     },
     "metadata": {},
     "output_type": "display_data"
    }
   ],
   "source": [
    "s = 2*as.numeric(u>.5)-3.9015\n",
    "x = s*sqrt(pi/8)*log((1+u)/(1-u))\n",
    "mean(x)\n",
    "plot(x,pch = 16,cex = .3, xlab = 'X_i', ylab = 'Value of X_i')"
   ]
  }
 ],
 "metadata": {
  "kernelspec": {
   "display_name": "R",
   "language": "R",
   "name": "ir"
  },
  "language_info": {
   "codemirror_mode": "r",
   "file_extension": ".r",
   "mimetype": "text/x-r-source",
   "name": "R",
   "pygments_lexer": "r",
   "version": "3.6.1"
  },
  "latex_envs": {
   "LaTeX_envs_menu_present": true,
   "autoclose": false,
   "autocomplete": true,
   "bibliofile": "biblio.bib",
   "cite_by": "apalike",
   "current_citInitial": 1,
   "eqLabelWithNumbers": true,
   "eqNumInitial": 1,
   "hotkeys": {
    "equation": "Ctrl-E",
    "itemize": "Ctrl-I"
   },
   "labels_anchors": false,
   "latex_user_defs": false,
   "report_style_numbering": false,
   "user_envs_cfg": false
  },
  "toc": {
   "base_numbering": 1,
   "nav_menu": {},
   "number_sections": false,
   "sideBar": true,
   "skip_h1_title": false,
   "title_cell": "Table of Contents",
   "title_sidebar": "Contents",
   "toc_cell": false,
   "toc_position": {},
   "toc_section_display": true,
   "toc_window_display": true
  }
 },
 "nbformat": 4,
 "nbformat_minor": 2
}
