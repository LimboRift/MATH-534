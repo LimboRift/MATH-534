{
 "cells": [
  {
   "cell_type": "code",
   "execution_count": 24,
   "metadata": {},
   "outputs": [],
   "source": [
    "library(MASS)\n",
    "set.seed(123)"
   ]
  },
  {
   "cell_type": "markdown",
   "metadata": {},
   "source": [
    "# (a)."
   ]
  },
  {
   "cell_type": "code",
   "execution_count": 29,
   "metadata": {},
   "outputs": [
    {
     "name": "stderr",
     "output_type": "stream",
     "text": [
      "Warning message in chisq.test(data_1, rpois(n, (mean(data_1) + var(data_1))/2)):\n",
      "\"Chi-squared approximation may be incorrect\""
     ]
    },
    {
     "data": {
      "text/html": [
       "<strong>X-squared:</strong> FALSE"
      ],
      "text/latex": [
       "\\textbf{X-squared:} FALSE"
      ],
      "text/markdown": [
       "**X-squared:** FALSE"
      ],
      "text/plain": [
       "X-squared \n",
       "    FALSE "
      ]
     },
     "metadata": {},
     "output_type": "display_data"
    },
    {
     "name": "stderr",
     "output_type": "stream",
     "text": [
      "Warning message in chisq.test(data_2, rpois(n, (mean(data_2) + var(data_2))/2)):\n",
      "\"Chi-squared approximation may be incorrect\""
     ]
    },
    {
     "data": {
      "text/html": [
       "<strong>X-squared:</strong> FALSE"
      ],
      "text/latex": [
       "\\textbf{X-squared:} FALSE"
      ],
      "text/markdown": [
       "**X-squared:** FALSE"
      ],
      "text/plain": [
       "X-squared \n",
       "    FALSE "
      ]
     },
     "metadata": {},
     "output_type": "display_data"
    },
    {
     "name": "stderr",
     "output_type": "stream",
     "text": [
      "Warning message in chisq.test(data_3, rpois(n, (mean(data_3) + var(data_3))/2)):\n",
      "\"Chi-squared approximation may be incorrect\""
     ]
    },
    {
     "data": {
      "text/html": [
       "<strong>X-squared:</strong> FALSE"
      ],
      "text/latex": [
       "\\textbf{X-squared:} FALSE"
      ],
      "text/markdown": [
       "**X-squared:** FALSE"
      ],
      "text/plain": [
       "X-squared \n",
       "    FALSE "
      ]
     },
     "metadata": {},
     "output_type": "display_data"
    }
   ],
   "source": [
    "data_1 <- as.numeric(as.matrix(read.table(\"data1.txt\")))\n",
    "data_2 <- as.numeric(as.matrix(read.table(\"data2.txt\")))\n",
    "data_3 <- as.numeric(as.matrix(read.table(\"data3.txt\")))\n",
    "n = 10^4\n",
    "chisq.test(data_1, rpois(n, (mean(data_1)+var(data_1))/2))$statistic>qchisq(.99, df=n-1)\n",
    "chisq.test(data_2, rpois(n, (mean(data_2)+var(data_2))/2))$statistic>qchisq(.99, df=n-1)\n",
    "chisq.test(data_3, rpois(n, (mean(data_3)+var(data_3))/2))$statistic>qchisq(.99, df=n-1)"
   ]
  },
  {
   "cell_type": "markdown",
   "metadata": {},
   "source": [
    "data2 has Poisson distribution"
   ]
  },
  {
   "cell_type": "markdown",
   "metadata": {},
   "source": [
    "# (b)."
   ]
  },
  {
   "cell_type": "markdown",
   "metadata": {},
   "source": [
    "<b> The “buckets” you based your $\\chi^2$-test on:"
   ]
  },
  {
   "cell_type": "markdown",
   "metadata": {},
   "source": [
    "If a data has Poisson distribution, the mean equals the variance equals $\\lambda_0$. So we can test if a data $D$ has Poisson distribution by comparing the data with random generated poisson data with $\\lambda=(mean(D)+var(D))/2$. "
   ]
  },
  {
   "cell_type": "markdown",
   "metadata": {},
   "source": [
    "<b> The corresponding observed ($O_j$’s) and theoretically expected ($E_j$’s) frequencies"
   ]
  },
  {
   "cell_type": "markdown",
   "metadata": {},
   "source": [
    "Under $H_0$, if all data have Poisson distributions, they should have $E_j=mean(D)=var(D)=(mean(D)+var(D))/2$"
   ]
  },
  {
   "cell_type": "code",
   "execution_count": 38,
   "metadata": {
    "scrolled": false
   },
   "outputs": [
    {
     "data": {
      "image/png": "[encoded data removed]",
      "text/plain": [
       "plot without title"
      ]
     },
     "metadata": {},
     "output_type": "display_data"
    },
    {
     "data": {
      "image/png": "[encoded data removed]",
      "text/plain": [
       "plot without title"
      ]
     },
     "metadata": {},
     "output_type": "display_data"
    },
    {
     "data": {
      "image/png": "[encoded data removed]",
      "text/plain": [
       "plot without title"
      ]
     },
     "metadata": {},
     "output_type": "display_data"
    }
   ],
   "source": [
    "plot(data_1, xlab = \"j\", ylab = \"Observed\", pch = 16, cex =.3)\n",
    "abline(h=(mean(data_1)+var(data_1))/2,col = \"red\")\n",
    "plot(data_2, xlab = \"j\", ylab = \"Observed\", pch = 16, cex =.3)\n",
    "abline(h=(mean(data_2)+var(data_2))/2,col = \"red\")\n",
    "plot(data_3, xlab = \"j\", ylab = \"Observed\", pch = 16, cex =.3)\n",
    "abline(h=(mean(data_3)+var(data_3))/2,col = \"red\")"
   ]
  },
  {
   "cell_type": "markdown",
   "metadata": {},
   "source": [
    "<b>The estimated value of parameter $\\lambda$"
   ]
  },
  {
   "cell_type": "code",
   "execution_count": 12,
   "metadata": {},
   "outputs": [
    {
     "data": {
      "text/html": [
       "12.6842"
      ],
      "text/latex": [
       "12.6842"
      ],
      "text/markdown": [
       "12.6842"
      ],
      "text/plain": [
       "[1] 12.6842"
      ]
     },
     "metadata": {},
     "output_type": "display_data"
    },
    {
     "data": {
      "text/html": [
       "4.1278"
      ],
      "text/latex": [
       "4.1278"
      ],
      "text/markdown": [
       "4.1278"
      ],
      "text/plain": [
       "[1] 4.1278"
      ]
     },
     "metadata": {},
     "output_type": "display_data"
    },
    {
     "data": {
      "text/html": [
       "3.0207"
      ],
      "text/latex": [
       "3.0207"
      ],
      "text/markdown": [
       "3.0207"
      ],
      "text/plain": [
       "[1] 3.0207"
      ]
     },
     "metadata": {},
     "output_type": "display_data"
    }
   ],
   "source": [
    "round((mean(data_1)+var(data_1))/2,4)\n",
    "round((mean(data_2)+var(data_2))/2,4)\n",
    "round((mean(data_3)+var(data_3))/2,4)"
   ]
  },
  {
   "cell_type": "markdown",
   "metadata": {},
   "source": [
    "<b>The obtained $\\chi^2$-score"
   ]
  },
  {
   "cell_type": "code",
   "execution_count": 30,
   "metadata": {},
   "outputs": [
    {
     "name": "stderr",
     "output_type": "stream",
     "text": [
      "Warning message in chisq.test(data_1, rpois(n, (mean(data_1) + var(data_1))/2)):\n",
      "\"Chi-squared approximation may be incorrect\""
     ]
    },
    {
     "data": {
      "text/html": [
       "<strong>X-squared:</strong> 748.137538299726"
      ],
      "text/latex": [
       "\\textbf{X-squared:} 748.137538299726"
      ],
      "text/markdown": [
       "**X-squared:** 748.137538299726"
      ],
      "text/plain": [
       "X-squared \n",
       " 748.1375 "
      ]
     },
     "metadata": {},
     "output_type": "display_data"
    },
    {
     "name": "stderr",
     "output_type": "stream",
     "text": [
      "Warning message in chisq.test(data_2, rpois(n, (mean(data_2) + var(data_2))/2)):\n",
      "\"Chi-squared approximation may be incorrect\""
     ]
    },
    {
     "data": {
      "text/html": [
       "<strong>X-squared:</strong> 303.817921323895"
      ],
      "text/latex": [
       "\\textbf{X-squared:} 303.817921323895"
      ],
      "text/markdown": [
       "**X-squared:** 303.817921323895"
      ],
      "text/plain": [
       "X-squared \n",
       " 303.8179 "
      ]
     },
     "metadata": {},
     "output_type": "display_data"
    },
    {
     "name": "stderr",
     "output_type": "stream",
     "text": [
      "Warning message in chisq.test(data_3, rpois(n, (mean(data_3) + var(data_3))/2)):\n",
      "\"Chi-squared approximation may be incorrect\""
     ]
    },
    {
     "data": {
      "text/html": [
       "<strong>X-squared:</strong> 141.368120973231"
      ],
      "text/latex": [
       "\\textbf{X-squared:} 141.368120973231"
      ],
      "text/markdown": [
       "**X-squared:** 141.368120973231"
      ],
      "text/plain": [
       "X-squared \n",
       " 141.3681 "
      ]
     },
     "metadata": {},
     "output_type": "display_data"
    }
   ],
   "source": [
    "chisq.test(data_1, rpois(n, (mean(data_1)+var(data_1))/2))$statistic\n",
    "chisq.test(data_2, rpois(n, (mean(data_2)+var(data_2))/2))$statistic\n",
    "chisq.test(data_3, rpois(n, (mean(data_3)+var(data_3))/2))$statistic"
   ]
  },
  {
   "cell_type": "markdown",
   "metadata": {},
   "source": [
    "<b>The corresponding critical number"
   ]
  },
  {
   "cell_type": "code",
   "execution_count": 15,
   "metadata": {},
   "outputs": [
    {
     "data": {
      "text/html": [
       "10330.9171276041"
      ],
      "text/latex": [
       "10330.9171276041"
      ],
      "text/markdown": [
       "10330.9171276041"
      ],
      "text/plain": [
       "[1] 10330.92"
      ]
     },
     "metadata": {},
     "output_type": "display_data"
    }
   ],
   "source": [
    "qchisq(.99, df=n-1)"
   ]
  },
  {
   "cell_type": "markdown",
   "metadata": {},
   "source": [
    "# (c)."
   ]
  },
  {
   "cell_type": "code",
   "execution_count": 31,
   "metadata": {},
   "outputs": [
    {
     "data": {
      "text/html": [
       "9.6148"
      ],
      "text/latex": [
       "9.6148"
      ],
      "text/markdown": [
       "9.6148"
      ],
      "text/plain": [
       "[1] 9.6148"
      ]
     },
     "metadata": {},
     "output_type": "display_data"
    },
    {
     "data": {
      "text/html": [
       "15.753596319632"
      ],
      "text/latex": [
       "15.753596319632"
      ],
      "text/markdown": [
       "15.753596319632"
      ],
      "text/plain": [
       "[1] 15.7536"
      ]
     },
     "metadata": {},
     "output_type": "display_data"
    },
    {
     "data": {
      "text/html": [
       "2.0367"
      ],
      "text/latex": [
       "2.0367"
      ],
      "text/markdown": [
       "2.0367"
      ],
      "text/plain": [
       "[1] 2.0367"
      ]
     },
     "metadata": {},
     "output_type": "display_data"
    },
    {
     "data": {
      "text/html": [
       "6.21897500750075"
      ],
      "text/latex": [
       "6.21897500750075"
      ],
      "text/markdown": [
       "6.21897500750075"
      ],
      "text/plain": [
       "[1] 6.218975"
      ]
     },
     "metadata": {},
     "output_type": "display_data"
    },
    {
     "data": {
      "text/html": [
       "3.0146"
      ],
      "text/latex": [
       "3.0146"
      ],
      "text/markdown": [
       "3.0146"
      ],
      "text/plain": [
       "[1] 3.0146"
      ]
     },
     "metadata": {},
     "output_type": "display_data"
    },
    {
     "data": {
      "text/html": [
       "3.0268895289529"
      ],
      "text/latex": [
       "3.0268895289529"
      ],
      "text/markdown": [
       "3.0268895289529"
      ],
      "text/plain": [
       "[1] 3.02689"
      ]
     },
     "metadata": {},
     "output_type": "display_data"
    }
   ],
   "source": [
    "mean(data_1)\n",
    "var(data_1)\n",
    "mean(data_2)\n",
    "var(data_2)\n",
    "mean(data_3)\n",
    "var(data_3)"
   ]
  },
  {
   "cell_type": "markdown",
   "metadata": {},
   "source": [
    "data3 contains Poisson-distributed data"
   ]
  },
  {
   "cell_type": "markdown",
   "metadata": {},
   "source": [
    "# (d)."
   ]
  },
  {
   "cell_type": "code",
   "execution_count": 32,
   "metadata": {},
   "outputs": [
    {
     "name": "stderr",
     "output_type": "stream",
     "text": [
      "Warning message in ks.test(data_1, rpois(n, (mean(data_1) + var(data_1))/2)):\n",
      "\"p-value will be approximate in the presence of ties\""
     ]
    },
    {
     "data": {
      "text/html": [
       "<strong>D:</strong> FALSE"
      ],
      "text/latex": [
       "\\textbf{D:} FALSE"
      ],
      "text/markdown": [
       "**D:** FALSE"
      ],
      "text/plain": [
       "    D \n",
       "FALSE "
      ]
     },
     "metadata": {},
     "output_type": "display_data"
    },
    {
     "name": "stderr",
     "output_type": "stream",
     "text": [
      "Warning message in ks.test(data_2, rpois(n, (mean(data_2) + var(data_2))/2)):\n",
      "\"p-value will be approximate in the presence of ties\""
     ]
    },
    {
     "data": {
      "text/html": [
       "<strong>D:</strong> FALSE"
      ],
      "text/latex": [
       "\\textbf{D:} FALSE"
      ],
      "text/markdown": [
       "**D:** FALSE"
      ],
      "text/plain": [
       "    D \n",
       "FALSE "
      ]
     },
     "metadata": {},
     "output_type": "display_data"
    },
    {
     "name": "stderr",
     "output_type": "stream",
     "text": [
      "Warning message in ks.test(data_3, rpois(n, (mean(data_3) + var(data_3))/2)):\n",
      "\"p-value will be approximate in the presence of ties\""
     ]
    },
    {
     "data": {
      "text/html": [
       "<strong>D:</strong> FALSE"
      ],
      "text/latex": [
       "\\textbf{D:} FALSE"
      ],
      "text/markdown": [
       "**D:** FALSE"
      ],
      "text/plain": [
       "    D \n",
       "FALSE "
      ]
     },
     "metadata": {},
     "output_type": "display_data"
    }
   ],
   "source": [
    "ks.test(data_1, rpois(n, (mean(data_1)+var(data_1))/2))$statistic>qchisq(.99, df=n-1)\n",
    "ks.test(data_2, rpois(n, (mean(data_2)+var(data_2))/2))$statistic>qchisq(.99, df=n-1)\n",
    "ks.test(data_3, rpois(n, (mean(data_3)+var(data_3))/2))$statistic>qchisq(.99, df=n-1)"
   ]
  }
 ],
 "metadata": {
  "kernelspec": {
   "display_name": "R",
   "language": "R",
   "name": "ir"
  },
  "language_info": {
   "codemirror_mode": "r",
   "file_extension": ".r",
   "mimetype": "text/x-r-source",
   "name": "R",
   "pygments_lexer": "r",
   "version": "3.6.1"
  },
  "latex_envs": {
   "LaTeX_envs_menu_present": true,
   "autoclose": false,
   "autocomplete": true,
   "bibliofile": "biblio.bib",
   "cite_by": "apalike",
   "current_citInitial": 1,
   "eqLabelWithNumbers": true,
   "eqNumInitial": 1,
   "hotkeys": {
    "equation": "Ctrl-E",
    "itemize": "Ctrl-I"
   },
   "labels_anchors": false,
   "latex_user_defs": false,
   "report_style_numbering": false,
   "user_envs_cfg": false
  },
  "toc": {
   "base_numbering": 1,
   "nav_menu": {},
   "number_sections": false,
   "sideBar": true,
   "skip_h1_title": false,
   "title_cell": "Table of Contents",
   "title_sidebar": "Contents",
   "toc_cell": false,
   "toc_position": {
    "height": "calc(100% - 180px)",
    "left": "10px",
    "top": "150px",
    "width": "302.528px"
   },
   "toc_section_display": true,
   "toc_window_display": true
  }
 },
 "nbformat": 4,
 "nbformat_minor": 2
}
